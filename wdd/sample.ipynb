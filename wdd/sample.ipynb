{
 "cells": [
  {
   "cell_type": "code",
   "execution_count": 2,
   "metadata": {},
   "outputs": [
    {
     "name": "stdout",
     "output_type": "stream",
     "text": [
      "7\n"
     ]
    },
    {
     "data": {
      "text/plain": [
       "True"
      ]
     },
     "execution_count": 2,
     "metadata": {},
     "output_type": "execute_result"
    }
   ],
   "source": [
    "import matplotlib.pyplot as plt\n",
    "import cv2 as cv\n",
    "# import imutils\n",
    "import numpy as np\n",
    "import matplotlib.pyplot as plt\n",
    "from PIL import Image\n",
    "import os.path\n",
    "\n",
    "fileref = \"01_IMG_7587.jpg\"\n",
    "original = cv.imread(fileref)\n",
    "img = original\n",
    "cv.imwrite(os.path.join(\"inverse_\"+fileref[:-4]+\".png\"), ~img)\n",
    "\n",
    "img = cv.medianBlur(img, 5)\n",
    "img_grey = cv.cvtColor(img, cv.COLOR_BGR2GRAY)\n",
    "\n",
    "ret, th1 = cv.threshold(img_grey, 130, 255, cv.THRESH_BINARY)\n",
    "th2 = cv.adaptiveThreshold(img_grey, 255, cv.ADAPTIVE_THRESH_MEAN_C, cv.THRESH_BINARY, 11, 2)\n",
    "th3 = cv.adaptiveThreshold(img_grey, 255, cv.ADAPTIVE_THRESH_GAUSSIAN_C, cv.THRESH_BINARY, 11, 2)\n",
    "\n",
    "titles = ['Original Image',\n",
    "          'Global Thresholding (v = 127)', 'Adaptive Mean Thresholding', 'Adaptive Gaussian Thresholding']\n",
    "images = [img, th1]\n",
    "\n",
    "cv.imwrite(os.path.join(\"threshhold_\"+fileref[:-4]+\".jpg\"), th1)\n",
    "cv.imwrite(os.path.join(\"adaptivthreshhold-m_\"+fileref[:-4]+\".jpg\"), th2)\n",
    "cv.imwrite(os.path.join(\"adaptivthreshhold-g_\"+fileref[:-4]+\".jpg\"), th3)\n",
    "\n",
    "\n",
    "imghsv = cv.cvtColor(img, cv.COLOR_BGR2HSV)\n",
    "\n",
    "\n",
    "imghsv[:, :, 2] = [[max(pixel - 25, 0) if pixel < 190 else min(pixel + 25, 255)\n",
    "                    for pixel in row] for row in imghsv[:, :, 2]]\n",
    "\n",
    "cv.imshow('contrast', cv.cvtColor(imghsv, cv.COLOR_HSV2BGR))\n",
    "# plt.imshow(cv.cvtColor(imghsv, cv.COLOR_HSV2RGB))\n",
    "\n",
    "# Setup SimpleBlobDetector parameters.\n",
    "params = cv.SimpleBlobDetector_Params()\n",
    "\n",
    "# Change thresholds\n",
    "params.minThreshold = 0\n",
    "params.maxThreshold = 150\n",
    "\n",
    "\n",
    "# Filter by Convexity\n",
    "params.filterByConvexity = True\n",
    "params.minConvexity = 0.87\n",
    "\n",
    "# Filter by Inertia\n",
    "params.filterByInertia = True\n",
    "params.minInertiaRatio = 0.08  # 0.08\n",
    "# Set edge gradient\n",
    "params.thresholdStep = 0.5\n",
    "\n",
    "# Filter by Area.\n",
    "params.filterByArea = True\n",
    "params.minArea = 300\n",
    "\n",
    "# Set up the detector with default parameters.\n",
    "detector = cv.SimpleBlobDetector_create(params)\n",
    "\n",
    "# Detect blobs.\n",
    "keypoints = detector.detect(original)\n",
    "\n",
    "# Draw detected blobs as red circles.\n",
    "# cv2.DRAW_MATCHES_FLAGS_DRAW_RICH_KEYPOINTS ensures the size of the circle corresponds to the size of blob\n",
    "im_with_keypoints = cv.drawKeypoints(original, keypoints, np.array([]), (0, 0, 255),\n",
    "                                     cv.DRAW_MATCHES_FLAGS_DRAW_RICH_KEYPOINTS)\n",
    "print(len(keypoints))\n",
    "# Show keypoints\n",
    "display = cv.resize(im_with_keypoints, None, fx=0.5, fy=0.5)\n",
    "cv.imshow(\"Keypoints\", display)\n",
    "cv.waitKey(0)\n",
    "cv.imwrite(os.path.join(\"keypoints_\"+fileref[:-4]+\".jpg\"), im_with_keypoints)\n"
   ]
  }
 ],
 "metadata": {
  "kernelspec": {
   "display_name": "Python 3",
   "language": "python",
   "name": "python3"
  },
  "language_info": {
   "codemirror_mode": {
    "name": "ipython",
    "version": 3
   },
   "file_extension": ".py",
   "mimetype": "text/x-python",
   "name": "python",
   "nbconvert_exporter": "python",
   "pygments_lexer": "ipython3",
   "version": "3.10.8 (tags/v3.10.8:aaaf517, Oct 11 2022, 16:50:30) [MSC v.1933 64 bit (AMD64)]"
  },
  "orig_nbformat": 4,
  "vscode": {
   "interpreter": {
    "hash": "51c941cbf7f5e8c3563d6b2d33bfbfa06869b4bf5d466a1f940d73ca27351b1d"
   }
  }
 },
 "nbformat": 4,
 "nbformat_minor": 2
}
